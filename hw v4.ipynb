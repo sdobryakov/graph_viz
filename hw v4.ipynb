{
 "cells": [
  {
   "cell_type": "code",
   "execution_count": 2,
   "metadata": {
    "colab": {},
    "colab_type": "code",
    "collapsed": true,
    "id": "lXwB3ZpZFV_M",
    "jupyter": {
     "outputs_hidden": true
    },
    "scrolled": true
   },
   "outputs": [],
   "source": [
    "import requests\n",
    "import networkx as nx\n",
    "import numpy as np\n",
    "\n",
    "import matplotlib.pyplot as plt\n",
    "import plotly.graph_objs as go\n",
    "\n",
    "%matplotlib inline"
   ]
  },
  {
   "cell_type": "code",
   "execution_count": 19,
   "metadata": {
    "colab": {},
    "colab_type": "code",
    "collapsed": true,
    "id": "z4h9GFntFV_U",
    "jupyter": {
     "outputs_hidden": true
    }
   },
   "outputs": [],
   "source": [
    "id = 63399107\n",
    "access_token = 'ba750c0fba750c0fba750c0ff2ba1f5397bba75ba750c0fe6b885ae3f36b2fe81010b1d'"
   ]
  },
  {
   "cell_type": "code",
   "execution_count": 20,
   "metadata": {
    "colab": {},
    "colab_type": "code",
    "collapsed": true,
    "id": "YHRT_l0dFV_Y",
    "jupyter": {
     "outputs_hidden": true
    }
   },
   "outputs": [],
   "source": [
    "res_users = requests.get('https://api.vk.com/method/users.get?user_ids={0}&access_token={1}&v=5.95'.format(id, access_token))\n",
    "my_id = res_users.json()['response'][0]['id']"
   ]
  },
  {
   "cell_type": "code",
   "execution_count": 22,
   "metadata": {
    "colab": {},
    "colab_type": "code",
    "collapsed": true,
    "id": "rwvTHB1oFV_c",
    "jupyter": {
     "outputs_hidden": true
    }
   },
   "outputs": [],
   "source": [
    "def ids_friends(user_ids):\n",
    "    friends_url = 'https://api.vk.com/method/friends.get?user_id={}&access_token={}&v=5.95'\n",
    "    json_response = requests.get(friends_url.format(user_ids, access_token)).json()\n",
    "    if json_response.get('Error'):\n",
    "        print(json_response.get('Error'))\n",
    "        return list()\n",
    "    return json_response"
   ]
  },
  {
   "cell_type": "code",
   "execution_count": 23,
   "metadata": {
    "colab": {
     "base_uri": "https://localhost:8080/",
     "height": 254
    },
    "colab_type": "code",
    "collapsed": false,
    "id": "TOu6NNR61CMq",
    "jupyter": {
     "outputs_hidden": false
    },
    "outputId": "c00c30d9-f248-464a-9df8-d5c41bde2b5c"
   },
   "outputs": [
    {
     "data": {
      "text/plain": [
       "239993"
      ]
     },
     "execution_count": 23,
     "metadata": {},
     "output_type": "execute_result"
    }
   ],
   "source": [
    "friend_ids = ids_friends(id)\n",
    "friend_ids['response']['items'][0]\n",
    "\n",
    "friends_of_friend = ids_friends(friend_ids['response']['items'][0])\n",
    "friends_of_friend['response']['items'][0]"
   ]
  },
  {
   "cell_type": "code",
   "execution_count": 25,
   "metadata": {
    "colab": {},
    "colab_type": "code",
    "id": "g2O2XUIjFV_f"
   },
   "outputs": [],
   "source": [
    "graph = {}\n",
    "\n",
    "friends = ids_friends(my_id)['response']['items']\n",
    "graph[my_id] = friends\n",
    "\n",
    "for f in friends:\n",
    "    friends_of_friend = ids_friends(f)\n",
    "    if 'response' in friends_of_friend:\n",
    "        \n",
    "        graph[f] = friends_of_friend['response']['items']\n",
    "\n"
   ]
  },
  {
   "cell_type": "code",
   "execution_count": 27,
   "metadata": {},
   "outputs": [],
   "source": [
    "def about_friends(user_ids):\n",
    "    friends_url = 'https://api.vk.com/method/users.get?user_id={}&access_token={}&fields=first_name&v=5.95'\n",
    "    json_response = requests.get(friends_url.format(user_ids, access_token)).json()\n",
    "    if json_response.get('Error'):\n",
    "        print(json_response.get('Error'))\n",
    "        return list()\n",
    "    return json_response"
   ]
  },
  {
   "cell_type": "code",
   "execution_count": 28,
   "metadata": {},
   "outputs": [],
   "source": [
    "def name_surname(id):\n",
    "    info = about_friends(id)['response'][0]\n",
    "    return info['first_name'] + ' ' + info['last_name']"
   ]
  },
  {
   "cell_type": "code",
   "execution_count": 29,
   "metadata": {},
   "outputs": [],
   "source": [
    "team = [63399107, 32703581, 86991442]"
   ]
  },
  {
   "cell_type": "code",
   "execution_count": 30,
   "metadata": {
    "collapsed": false,
    "jupyter": {
     "outputs_hidden": false
    }
   },
   "outputs": [],
   "source": [
    "dict_names = {}\n",
    "for friend in team:\n",
    "    dict_names[friend] = name_surname(friend)\n",
    "    for item in graph[friend]:\n",
    "        dict_names[item] = name_surname(item)"
   ]
  },
  {
   "cell_type": "code",
   "execution_count": 31,
   "metadata": {
    "collapsed": false,
    "jupyter": {
     "outputs_hidden": false
    }
   },
   "outputs": [],
   "source": [
    "graph_names = {}\n",
    "\n",
    "for friend in team:\n",
    "    graph_names[dict_names[friend]] = []\n",
    "    for item in graph[friend]:\n",
    "        graph_names[dict_names[friend]].append(dict_names[item])"
   ]
  },
  {
   "cell_type": "code",
   "execution_count": null,
   "metadata": {
    "collapsed": true,
    "jupyter": {
     "outputs_hidden": true
    }
   },
   "outputs": [],
   "source": [
    "from py2neo import Graph, Node, Relationship\n",
    "g = Graph(\"bolt://localhost:7687\")\n",
    "for friend in graph_names:\n",
    "    a = Node(\"Person\", name=friend)\n",
    "    for item in graph_names[friend]:\n",
    "        b = Node(\"Person\", name=item)\n",
    "        KNOWS = Relationship.type(\"IS_FRIEND\")\n",
    "        g.merge(KNOWS(a, b), \"Person\", \"name\")"
   ]
  }
 ],
 "metadata": {
  "accelerator": "GPU",
  "colab": {
   "collapsed_sections": [],
   "name": "cgbl.ipynb",
   "provenance": [],
   "version": "0.3.2"
  },
  "kernelspec": {
   "display_name": "Python 3",
   "language": "python",
   "name": "python3"
  },
  "language_info": {
   "codemirror_mode": {
    "name": "ipython",
    "version": 3
   },
   "file_extension": ".py",
   "mimetype": "text/x-python",
   "name": "python",
   "nbconvert_exporter": "python",
   "pygments_lexer": "ipython3",
   "version": "3.7.4"
  }
 },
 "nbformat": 4,
 "nbformat_minor": 4
}
