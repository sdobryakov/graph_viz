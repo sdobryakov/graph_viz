{
 "cells": [
  {
   "cell_type": "code",
   "execution_count": 1,
   "metadata": {
    "colab": {},
    "colab_type": "code",
    "id": "lXwB3ZpZFV_M",
    "scrolled": true
   },
   "outputs": [],
   "source": [
    "import requests\n",
    "import networkx as nx\n",
    "import numpy as np\n",
    "import math\n",
    "import random\n",
    "\n",
    "from copy import deepcopy\n",
    "\n",
    "import matplotlib.pyplot as plt\n",
    "import matplotlib\n",
    "import plotly.graph_objs as go\n",
    "\n",
    "%matplotlib inline"
   ]
  },
  {
   "cell_type": "code",
   "execution_count": 2,
   "metadata": {
    "colab": {},
    "colab_type": "code",
    "id": "z4h9GFntFV_U"
   },
   "outputs": [],
   "source": [
    "id = 63399107\n",
    "access_token = 'ba750c0fba750c0fba750c0ff2ba1f5397bba75ba750c0fe6b885ae3f36b2fe81010b1d'"
   ]
  },
  {
   "cell_type": "code",
   "execution_count": 3,
   "metadata": {
    "colab": {},
    "colab_type": "code",
    "id": "YHRT_l0dFV_Y"
   },
   "outputs": [],
   "source": [
    "res_users = requests.get('https://api.vk.com/method/users.get?user_ids={0}&access_token={1}&v=5.95'.format(id, access_token))\n",
    "my_id = res_users.json()['response'][0]['id']"
   ]
  },
  {
   "cell_type": "code",
   "execution_count": 4,
   "metadata": {
    "colab": {},
    "colab_type": "code",
    "id": "rwvTHB1oFV_c"
   },
   "outputs": [],
   "source": [
    "def ids_friends(user_ids):\n",
    "    friends_url = 'https://api.vk.com/method/friends.get?user_id={}&access_token={}&v=5.95'\n",
    "    json_response = requests.get(friends_url.format(user_ids, access_token)).json()\n",
    "    if json_response.get('Error'):\n",
    "        print(json_response.get('Error'))\n",
    "        return list()\n",
    "    return json_response"
   ]
  },
  {
   "cell_type": "code",
   "execution_count": 5,
   "metadata": {
    "colab": {
     "base_uri": "https://localhost:8080/",
     "height": 254
    },
    "colab_type": "code",
    "id": "TOu6NNR61CMq",
    "outputId": "c00c30d9-f248-464a-9df8-d5c41bde2b5c"
   },
   "outputs": [
    {
     "data": {
      "text/plain": [
       "239993"
      ]
     },
     "execution_count": 5,
     "metadata": {},
     "output_type": "execute_result"
    }
   ],
   "source": [
    "friend_ids = ids_friends(id)\n",
    "friend_ids['response']['items'][0]\n",
    "\n",
    "friends_of_friend = ids_friends(friend_ids['response']['items'][0])\n",
    "friends_of_friend['response']['items'][0]"
   ]
  },
  {
   "cell_type": "code",
   "execution_count": 6,
   "metadata": {
    "colab": {},
    "colab_type": "code",
    "id": "g2O2XUIjFV_f"
   },
   "outputs": [],
   "source": [
    "graph = {}\n",
    "\n",
    "friends = ids_friends(my_id)['response']['items']\n",
    "graph[my_id] = friends\n",
    "\n",
    "for f in friends:\n",
    "    friends_of_friend = ids_friends(f)\n",
    "    if 'response' in friends_of_friend:\n",
    "        \n",
    "        graph[f] = friends_of_friend['response']['items']\n",
    "\n"
   ]
  },
  {
   "cell_type": "code",
   "execution_count": 7,
   "metadata": {},
   "outputs": [],
   "source": [
    "team = [63399107, 32703581, 86991442]"
   ]
  },
  {
   "cell_type": "code",
   "execution_count": 8,
   "metadata": {},
   "outputs": [],
   "source": [
    "friends_of_team = set()\n",
    "for member in team:\n",
    "    friends_of_team.add(member)\n",
    "    for person in graph[member]:\n",
    "        friends_of_team.add(person)"
   ]
  },
  {
   "cell_type": "code",
   "execution_count": 9,
   "metadata": {},
   "outputs": [],
   "source": [
    "graph_final = {}\n",
    "for person in graph:\n",
    "    cur_friends = graph[person]\n",
    "    new_friends = []\n",
    "    for item in cur_friends:\n",
    "        if item in friends_of_team:\n",
    "            new_friends.append(item)\n",
    "    graph_final[person] = new_friends"
   ]
  },
  {
   "cell_type": "code",
   "execution_count": 10,
   "metadata": {},
   "outputs": [],
   "source": [
    "graph_finfin = {}\n",
    "for person in friends_of_team:\n",
    "    if person in graph_final.keys():\n",
    "        graph_finfin[person] = graph_final[person]\n",
    "    else:\n",
    "        tmp = []\n",
    "        for item in graph_final:\n",
    "            if person in graph_final[item]:\n",
    "                tmp.append(item)\n",
    "        graph_finfin[person] = tmp"
   ]
  },
  {
   "cell_type": "code",
   "execution_count": 11,
   "metadata": {},
   "outputs": [],
   "source": [
    "def make_nx_graph(graph):\n",
    "    g = nx.Graph()\n",
    "    for i in graph:\n",
    "        for j in graph[i]:\n",
    "            if not (g.has_edge(j, i) or g.has_edge(i, j)):\n",
    "                g.add_edge(i, j)\n",
    "    return g"
   ]
  },
  {
   "cell_type": "code",
   "execution_count": 12,
   "metadata": {},
   "outputs": [],
   "source": [
    "graph_nx = make_nx_graph(graph_finfin)"
   ]
  },
  {
   "cell_type": "code",
   "execution_count": 13,
   "metadata": {},
   "outputs": [],
   "source": [
    "common = []\n",
    "cnt = 0\n",
    "for item in graph_finfin:\n",
    "    count = 0\n",
    "    for member in team:\n",
    "        if member in graph_finfin[item]:\n",
    "            count += 1\n",
    "    if count == 3:\n",
    "        common.append(item)\n",
    "        cnt += 1"
   ]
  },
  {
   "cell_type": "code",
   "execution_count": 14,
   "metadata": {},
   "outputs": [],
   "source": [
    "common = common[0:12]"
   ]
  },
  {
   "cell_type": "code",
   "execution_count": 55,
   "metadata": {},
   "outputs": [],
   "source": [
    "lonely = {}\n",
    "for member in team:\n",
    "    stop_set = set(team + common)\n",
    "    stop_set.remove(member)\n",
    "    lonely[member] = []\n",
    "    for item in graph_finfin:\n",
    "        if member in graph_finfin[item]:\n",
    "            if (len(set(graph_finfin[item]).intersection(stop_set)) == 0):\n",
    "                lonely[member].append(item)"
   ]
  },
  {
   "cell_type": "code",
   "execution_count": 56,
   "metadata": {},
   "outputs": [],
   "source": [
    "for item in lonely:\n",
    "    lonely[item] = lonely[item][16:21]"
   ]
  },
  {
   "cell_type": "code",
   "execution_count": 57,
   "metadata": {},
   "outputs": [
    {
     "data": {
      "text/plain": [
       "{63399107: [24099121, 308070708, 304374148, 66642316, 265339304],\n",
       " 32703581: [53012650, 8294581, 168073398, 68229314, 72687841],\n",
       " 86991442: [3180608, 64516164, 6228048, 34916432, 4423773]}"
      ]
     },
     "execution_count": 57,
     "metadata": {},
     "output_type": "execute_result"
    }
   ],
   "source": [
    "lonely"
   ]
  },
  {
   "cell_type": "code",
   "execution_count": 58,
   "metadata": {},
   "outputs": [],
   "source": [
    "guests = team + common\n",
    "for item in lonely:\n",
    "    guests += lonely[item]"
   ]
  },
  {
   "cell_type": "code",
   "execution_count": 59,
   "metadata": {},
   "outputs": [],
   "source": [
    "graph_guests = {}\n",
    "for item in graph_finfin:\n",
    "    if item in guests:\n",
    "        graph_guests[item] = []\n",
    "        for friend in graph_finfin[item]:\n",
    "            if friend in guests:\n",
    "                graph_guests[item].append(friend)"
   ]
  },
  {
   "cell_type": "code",
   "execution_count": 60,
   "metadata": {},
   "outputs": [
    {
     "data": {
      "image/png": "[encoded data removed]",
      "text/plain": [
       "<Figure size 432x288 with 1 Axes>"
      ]
     },
     "metadata": {},
     "output_type": "display_data"
    }
   ],
   "source": [
    "nx.draw_spring(make_nx_graph(graph_guests), node_size=20, width=0.055)"
   ]
  },
  {
   "cell_type": "code",
   "execution_count": 61,
   "metadata": {},
   "outputs": [],
   "source": [
    "def about_friends(user_ids):\n",
    "    friends_url = 'https://api.vk.com/method/users.get?user_id={}&access_token={}&fields=first_name&v=5.95'\n",
    "    json_response = requests.get(friends_url.format(user_ids, access_token)).json()\n",
    "    if json_response.get('Error'):\n",
    "        print(json_response.get('Error'))\n",
    "        return list()\n",
    "    return json_response"
   ]
  },
  {
   "cell_type": "code",
   "execution_count": 62,
   "metadata": {},
   "outputs": [],
   "source": [
    "def name_surname(id):\n",
    "    info = about_friends(id)['response'][0]\n",
    "    return info['first_name'] + ' ' + info['last_name']"
   ]
  },
  {
   "cell_type": "code",
   "execution_count": 63,
   "metadata": {},
   "outputs": [],
   "source": [
    "dict_names = {}\n",
    "for friend in team:\n",
    "    dict_names[friend] = name_surname(friend)\n",
    "    for item in graph[friend]:\n",
    "        dict_names[item] = name_surname(item)"
   ]
  },
  {
   "cell_type": "code",
   "execution_count": 64,
   "metadata": {},
   "outputs": [],
   "source": [
    "graph_names = {}\n",
    "\n",
    "for friend in guests:\n",
    "    graph_names[dict_names[friend]] = []\n",
    "    try:\n",
    "        for item in graph_guests[friend]:\n",
    "            if item in guests:\n",
    "                graph_names[dict_names[friend]].append(dict_names[item])\n",
    "    except:\n",
    "        continue"
   ]
  },
  {
   "cell_type": "code",
   "execution_count": 65,
   "metadata": {},
   "outputs": [],
   "source": [
    "def path(friend1, friend2):\n",
    "    return nx.shortest_path(make_nx_graph(graph_names), friend1, friend2)"
   ]
  },
  {
   "cell_type": "code",
   "execution_count": 69,
   "metadata": {},
   "outputs": [
    {
     "data": {
      "text/plain": [
       "['Olesya Kovaleva',\n",
       " 'Natalya Bernshteyn',\n",
       " 'Darya Obrezkova',\n",
       " 'Ekaterina Osipova']"
      ]
     },
     "execution_count": 69,
     "metadata": {},
     "output_type": "execute_result"
    }
   ],
   "source": [
    "path(\"Olesya Kovaleva\", \"Ekaterina Osipova\")"
   ]
  },
  {
   "cell_type": "code",
   "execution_count": 68,
   "metadata": {},
   "outputs": [],
   "source": [
    "from py2neo import Graph, Node, Relationship\n",
    "g = Graph(\"bolt://localhost:7687\")\n",
    "for friend in graph_names:\n",
    "    a = Node(\"Person\", name=friend)\n",
    "    for item in graph_names[friend]:\n",
    "        b = Node(\"Person\", name=item)\n",
    "        KNOWS = Relationship.type(\"FRIEND_OF\")\n",
    "        g.merge(KNOWS(a, b), \"Person\", \"name\")"
   ]
  },
  {
   "cell_type": "code",
   "execution_count": null,
   "metadata": {},
   "outputs": [],
   "source": []
  },
  {
   "cell_type": "code",
   "execution_count": null,
   "metadata": {},
   "outputs": [],
   "source": []
  },
  {
   "cell_type": "code",
   "execution_count": null,
   "metadata": {},
   "outputs": [],
   "source": []
  }
 ],
 "metadata": {
  "accelerator": "GPU",
  "anaconda-cloud": {},
  "colab": {
   "collapsed_sections": [],
   "name": "cgbl.ipynb",
   "provenance": [],
   "version": "0.3.2"
  },
  "kernelspec": {
   "display_name": "Python 3",
   "language": "python",
   "name": "python3"
  },
  "language_info": {
   "codemirror_mode": {
    "name": "ipython",
    "version": 3
   },
   "file_extension": ".py",
   "mimetype": "text/x-python",
   "name": "python",
   "nbconvert_exporter": "python",
   "pygments_lexer": "ipython3",
   "version": "3.7.4"
  }
 },
 "nbformat": 4,
 "nbformat_minor": 1
}
